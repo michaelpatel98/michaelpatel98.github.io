{
 "cells": [
  {
   "cell_type": "markdown",
   "id": "d434e4d1",
   "metadata": {},
   "source": [
    ">You should write three paragraphs which clearly explain how you would present your work to three different groups of people\n",
    "\n",
    ">1: Other data-savvy people - they know how to interpret better, and so can be a little more technical, interactive\n",
    "\n",
    ">2: General public - could be a wide range of people, but I am thinking about instances like public health services... people don't always listen because of fake/skewed/biased news sources... want to be absolutely transparent, but sitll allow people to make their own conclusions (maybe guide them there)\n",
    "\n",
    ">3: Kids/younger people - need to be informative, they may not know what certain statistics, etc. may *mean.* Also need to be a bit more interactive (webpage?) since they know *how to use* the tech"
   ]
  },
  {
   "cell_type": "code",
   "execution_count": null,
   "id": "f2ace8ee",
   "metadata": {},
   "outputs": [],
   "source": []
  }
 ],
 "metadata": {
  "kernelspec": {
   "display_name": "Python 3",
   "language": "python",
   "name": "python3"
  },
  "language_info": {
   "codemirror_mode": {
    "name": "ipython",
    "version": 3
   },
   "file_extension": ".py",
   "mimetype": "text/x-python",
   "name": "python",
   "nbconvert_exporter": "python",
   "pygments_lexer": "ipython3",
   "version": "3.7.7"
  }
 },
 "nbformat": 4,
 "nbformat_minor": 5
}
